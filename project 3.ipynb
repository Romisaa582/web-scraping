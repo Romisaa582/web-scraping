{
 "cells": [
  {
   "cell_type": "code",
   "execution_count": 2,
   "metadata": {},
   "outputs": [],
   "source": [
    "import requests\n",
    "from bs4 import BeautifulSoup\n",
    "import os"
   ]
  },
  {
   "cell_type": "code",
   "execution_count": 9,
   "metadata": {},
   "outputs": [
    {
     "name": "stdout",
     "output_type": "stream",
     "text": [
      "Successfully retrieved the webpage.\n"
     ]
    }
   ],
   "source": [
    "\n",
    "url = \"https://books.toscrape.com/index.html\"  \n",
    "\n",
    "\n",
    "response = requests.get(url)\n",
    "\n",
    "\n",
    "if response.status_code == 200:\n",
    "    print(\"Successfully retrieved the webpage.\")\n",
    "else:\n",
    "    print(f'Failed to retrieve the webpage: {response.status_code}')"
   ]
  },
  {
   "cell_type": "code",
   "execution_count": 10,
   "metadata": {},
   "outputs": [],
   "source": [
    "\n",
    "soup = BeautifulSoup(response.text, 'html.parser')\n",
    "\n",
    "\n",
    "images = soup.find_all('img')\n",
    "\n",
    "\n",
    "os.makedirs('scraped_images', exist_ok=True)"
   ]
  },
  {
   "cell_type": "code",
   "execution_count": 11,
   "metadata": {},
   "outputs": [
    {
     "name": "stdout",
     "output_type": "stream",
     "text": [
      "Found a relative image URL or no source, skipping...\n",
      "Found a relative image URL or no source, skipping...\n",
      "Found a relative image URL or no source, skipping...\n",
      "Found a relative image URL or no source, skipping...\n",
      "Found a relative image URL or no source, skipping...\n",
      "Found a relative image URL or no source, skipping...\n",
      "Found a relative image URL or no source, skipping...\n",
      "Found a relative image URL or no source, skipping...\n",
      "Found a relative image URL or no source, skipping...\n",
      "Found a relative image URL or no source, skipping...\n",
      "Found a relative image URL or no source, skipping...\n",
      "Found a relative image URL or no source, skipping...\n",
      "Found a relative image URL or no source, skipping...\n",
      "Found a relative image URL or no source, skipping...\n",
      "Found a relative image URL or no source, skipping...\n",
      "Found a relative image URL or no source, skipping...\n",
      "Found a relative image URL or no source, skipping...\n",
      "Found a relative image URL or no source, skipping...\n",
      "Found a relative image URL or no source, skipping...\n",
      "Found a relative image URL or no source, skipping...\n"
     ]
    }
   ],
   "source": [
    "\n",
    "for img in images:\n",
    "    img_url = img.get('src')\n",
    "    \n",
    "    if img_url and img_url.startswith('http'):\n",
    "        img_response = requests.get(img_url)\n",
    "        if img_response.status_code == 200:\n",
    "           \n",
    "            img_name = os.path.join('scraped_images', img_url.split('/')[-1])\n",
    "            with open(img_name, 'wb') as f:\n",
    "                f.write(img_response.content)\n",
    "            print(f'Saved image: {img_name}')\n",
    "    else:\n",
    "        print('Found a relative image URL or no source, skipping...')"
   ]
  },
  {
   "cell_type": "code",
   "execution_count": 12,
   "metadata": {},
   "outputs": [],
   "source": [
    "\n",
    "   "
   ]
  },
  {
   "cell_type": "code",
   "execution_count": null,
   "metadata": {},
   "outputs": [],
   "source": []
  },
  {
   "cell_type": "code",
   "execution_count": null,
   "metadata": {},
   "outputs": [],
   "source": []
  }
 ],
 "metadata": {
  "kernelspec": {
   "display_name": "base",
   "language": "python",
   "name": "python3"
  },
  "language_info": {
   "codemirror_mode": {
    "name": "ipython",
    "version": 3
   },
   "file_extension": ".py",
   "mimetype": "text/x-python",
   "name": "python",
   "nbconvert_exporter": "python",
   "pygments_lexer": "ipython3",
   "version": "3.11.5"
  }
 },
 "nbformat": 4,
 "nbformat_minor": 2
}
